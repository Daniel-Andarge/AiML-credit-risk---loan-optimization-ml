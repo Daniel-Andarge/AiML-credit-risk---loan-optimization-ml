{
 "cells": [
  {
   "cell_type": "markdown",
   "id": "5e3f3272-06bb-46ab-92c0-d791500dc762",
   "metadata": {},
   "source": [
    "# Feature Engineering"
   ]
  },
  {
   "cell_type": "code",
   "execution_count": 1,
   "id": "cbdeb1f6-ab95-4a90-a166-183096a0b3a0",
   "metadata": {},
   "outputs": [],
   "source": [
    "import sys\n",
    "import os\n",
    "sys.path.append('../scripts')\n",
    "from data_loader import *\n",
    "from feature_engineering import *\n",
    "from eda import *"
   ]
  },
  {
   "cell_type": "markdown",
   "id": "f0b89089-966d-4422-821b-db78ac7fac23",
   "metadata": {},
   "source": [
    "## Load Dataset"
   ]
  },
  {
   "cell_type": "code",
   "execution_count": 2,
   "id": "636ed847-18f4-4a5d-b0ca-cb1fd304ebce",
   "metadata": {},
   "outputs": [
    {
     "data": {
      "text/html": [
       "<div>\n",
       "<style scoped>\n",
       "    .dataframe tbody tr th:only-of-type {\n",
       "        vertical-align: middle;\n",
       "    }\n",
       "\n",
       "    .dataframe tbody tr th {\n",
       "        vertical-align: top;\n",
       "    }\n",
       "\n",
       "    .dataframe thead th {\n",
       "        text-align: right;\n",
       "    }\n",
       "</style>\n",
       "<table border=\"1\" class=\"dataframe\">\n",
       "  <thead>\n",
       "    <tr style=\"text-align: right;\">\n",
       "      <th></th>\n",
       "      <th>TransactionId</th>\n",
       "      <th>BatchId</th>\n",
       "      <th>AccountId</th>\n",
       "      <th>SubscriptionId</th>\n",
       "      <th>CustomerId</th>\n",
       "      <th>CurrencyCode</th>\n",
       "      <th>CountryCode</th>\n",
       "      <th>ProviderId</th>\n",
       "      <th>ProductId</th>\n",
       "      <th>ProductCategory</th>\n",
       "      <th>ChannelId</th>\n",
       "      <th>Amount</th>\n",
       "      <th>Value</th>\n",
       "      <th>TransactionStartTime</th>\n",
       "      <th>PricingStrategy</th>\n",
       "      <th>FraudResult</th>\n",
       "    </tr>\n",
       "  </thead>\n",
       "  <tbody>\n",
       "    <tr>\n",
       "      <th>0</th>\n",
       "      <td>TransactionId_76871</td>\n",
       "      <td>BatchId_36123</td>\n",
       "      <td>AccountId_3957</td>\n",
       "      <td>SubscriptionId_887</td>\n",
       "      <td>CustomerId_4406</td>\n",
       "      <td>UGX</td>\n",
       "      <td>256</td>\n",
       "      <td>ProviderId_6</td>\n",
       "      <td>ProductId_10</td>\n",
       "      <td>airtime</td>\n",
       "      <td>ChannelId_3</td>\n",
       "      <td>1000.0</td>\n",
       "      <td>1000</td>\n",
       "      <td>2018-11-15 02:18:49+00:00</td>\n",
       "      <td>2</td>\n",
       "      <td>0</td>\n",
       "    </tr>\n",
       "    <tr>\n",
       "      <th>1</th>\n",
       "      <td>TransactionId_73770</td>\n",
       "      <td>BatchId_15642</td>\n",
       "      <td>AccountId_4841</td>\n",
       "      <td>SubscriptionId_3829</td>\n",
       "      <td>CustomerId_4406</td>\n",
       "      <td>UGX</td>\n",
       "      <td>256</td>\n",
       "      <td>ProviderId_4</td>\n",
       "      <td>ProductId_6</td>\n",
       "      <td>financial_services</td>\n",
       "      <td>ChannelId_2</td>\n",
       "      <td>-20.0</td>\n",
       "      <td>20</td>\n",
       "      <td>2018-11-15 02:19:08+00:00</td>\n",
       "      <td>2</td>\n",
       "      <td>0</td>\n",
       "    </tr>\n",
       "    <tr>\n",
       "      <th>2</th>\n",
       "      <td>TransactionId_26203</td>\n",
       "      <td>BatchId_53941</td>\n",
       "      <td>AccountId_4229</td>\n",
       "      <td>SubscriptionId_222</td>\n",
       "      <td>CustomerId_4683</td>\n",
       "      <td>UGX</td>\n",
       "      <td>256</td>\n",
       "      <td>ProviderId_6</td>\n",
       "      <td>ProductId_1</td>\n",
       "      <td>airtime</td>\n",
       "      <td>ChannelId_3</td>\n",
       "      <td>500.0</td>\n",
       "      <td>500</td>\n",
       "      <td>2018-11-15 02:44:21+00:00</td>\n",
       "      <td>2</td>\n",
       "      <td>0</td>\n",
       "    </tr>\n",
       "    <tr>\n",
       "      <th>3</th>\n",
       "      <td>TransactionId_380</td>\n",
       "      <td>BatchId_102363</td>\n",
       "      <td>AccountId_648</td>\n",
       "      <td>SubscriptionId_2185</td>\n",
       "      <td>CustomerId_988</td>\n",
       "      <td>UGX</td>\n",
       "      <td>256</td>\n",
       "      <td>ProviderId_1</td>\n",
       "      <td>ProductId_21</td>\n",
       "      <td>utility_bill</td>\n",
       "      <td>ChannelId_3</td>\n",
       "      <td>20000.0</td>\n",
       "      <td>21800</td>\n",
       "      <td>2018-11-15 03:32:55+00:00</td>\n",
       "      <td>2</td>\n",
       "      <td>0</td>\n",
       "    </tr>\n",
       "    <tr>\n",
       "      <th>4</th>\n",
       "      <td>TransactionId_28195</td>\n",
       "      <td>BatchId_38780</td>\n",
       "      <td>AccountId_4841</td>\n",
       "      <td>SubscriptionId_3829</td>\n",
       "      <td>CustomerId_988</td>\n",
       "      <td>UGX</td>\n",
       "      <td>256</td>\n",
       "      <td>ProviderId_4</td>\n",
       "      <td>ProductId_6</td>\n",
       "      <td>financial_services</td>\n",
       "      <td>ChannelId_2</td>\n",
       "      <td>-644.0</td>\n",
       "      <td>644</td>\n",
       "      <td>2018-11-15 03:34:21+00:00</td>\n",
       "      <td>2</td>\n",
       "      <td>0</td>\n",
       "    </tr>\n",
       "  </tbody>\n",
       "</table>\n",
       "</div>"
      ],
      "text/plain": [
       "         TransactionId         BatchId       AccountId       SubscriptionId  \\\n",
       "0  TransactionId_76871   BatchId_36123  AccountId_3957   SubscriptionId_887   \n",
       "1  TransactionId_73770   BatchId_15642  AccountId_4841  SubscriptionId_3829   \n",
       "2  TransactionId_26203   BatchId_53941  AccountId_4229   SubscriptionId_222   \n",
       "3    TransactionId_380  BatchId_102363   AccountId_648  SubscriptionId_2185   \n",
       "4  TransactionId_28195   BatchId_38780  AccountId_4841  SubscriptionId_3829   \n",
       "\n",
       "        CustomerId CurrencyCode  CountryCode    ProviderId     ProductId  \\\n",
       "0  CustomerId_4406          UGX          256  ProviderId_6  ProductId_10   \n",
       "1  CustomerId_4406          UGX          256  ProviderId_4   ProductId_6   \n",
       "2  CustomerId_4683          UGX          256  ProviderId_6   ProductId_1   \n",
       "3   CustomerId_988          UGX          256  ProviderId_1  ProductId_21   \n",
       "4   CustomerId_988          UGX          256  ProviderId_4   ProductId_6   \n",
       "\n",
       "      ProductCategory    ChannelId   Amount  Value      TransactionStartTime  \\\n",
       "0             airtime  ChannelId_3   1000.0   1000 2018-11-15 02:18:49+00:00   \n",
       "1  financial_services  ChannelId_2    -20.0     20 2018-11-15 02:19:08+00:00   \n",
       "2             airtime  ChannelId_3    500.0    500 2018-11-15 02:44:21+00:00   \n",
       "3        utility_bill  ChannelId_3  20000.0  21800 2018-11-15 03:32:55+00:00   \n",
       "4  financial_services  ChannelId_2   -644.0    644 2018-11-15 03:34:21+00:00   \n",
       "\n",
       "   PricingStrategy  FraudResult  \n",
       "0                2            0  \n",
       "1                2            0  \n",
       "2                2            0  \n",
       "3                2            0  \n",
       "4                2            0  "
      ]
     },
     "execution_count": 2,
     "metadata": {},
     "output_type": "execute_result"
    }
   ],
   "source": [
    "# path to the CSV file\n",
    "filename = 'cleaned_df.parquet'\n",
    "path = os.path.join('..', 'data/processed', filename)\n",
    "\n",
    "# Load dataset\n",
    "cleaned_df = load_data(path)\n",
    "cleaned_df.head()"
   ]
  },
  {
   "cell_type": "markdown",
   "id": "e2ca7599-f2b0-4cb7-a626-aefeb89824fa",
   "metadata": {},
   "source": [
    "## Extracting RFMS Features\n",
    "\n",
    "Recency(R): Time since a customer's last purchase or transaction.\n",
    "\n",
    "Frequency(F): Number of purchases or transactions a customer has made.\n",
    "\n",
    "Monetary(M): Total amount of money a customer has spent with the business.\n",
    "\n",
    "Standard Deviation(S): Variability or dispersion of a customer's purchase amounts."
   ]
  },
  {
   "cell_type": "code",
   "execution_count": 3,
   "id": "6882170e-9afe-4a9e-8739-4b39d205804b",
   "metadata": {},
   "outputs": [
    {
     "data": {
      "text/html": [
       "<div>\n",
       "<style scoped>\n",
       "    .dataframe tbody tr th:only-of-type {\n",
       "        vertical-align: middle;\n",
       "    }\n",
       "\n",
       "    .dataframe tbody tr th {\n",
       "        vertical-align: top;\n",
       "    }\n",
       "\n",
       "    .dataframe thead th {\n",
       "        text-align: right;\n",
       "    }\n",
       "</style>\n",
       "<table border=\"1\" class=\"dataframe\">\n",
       "  <thead>\n",
       "    <tr style=\"text-align: right;\">\n",
       "      <th></th>\n",
       "      <th>TransactionId</th>\n",
       "      <th>BatchId</th>\n",
       "      <th>AccountId</th>\n",
       "      <th>SubscriptionId</th>\n",
       "      <th>CustomerId</th>\n",
       "      <th>CurrencyCode</th>\n",
       "      <th>CountryCode</th>\n",
       "      <th>ProviderId</th>\n",
       "      <th>ProductId</th>\n",
       "      <th>ProductCategory</th>\n",
       "      <th>ChannelId</th>\n",
       "      <th>Amount</th>\n",
       "      <th>Value</th>\n",
       "      <th>TransactionStartTime</th>\n",
       "      <th>PricingStrategy</th>\n",
       "      <th>FraudResult</th>\n",
       "      <th>Recency</th>\n",
       "      <th>Frequency</th>\n",
       "      <th>Monetary</th>\n",
       "      <th>StdDev</th>\n",
       "    </tr>\n",
       "  </thead>\n",
       "  <tbody>\n",
       "    <tr>\n",
       "      <th>0</th>\n",
       "      <td>TransactionId_76871</td>\n",
       "      <td>BatchId_36123</td>\n",
       "      <td>AccountId_3957</td>\n",
       "      <td>SubscriptionId_887</td>\n",
       "      <td>CustomerId_4406</td>\n",
       "      <td>UGX</td>\n",
       "      <td>256</td>\n",
       "      <td>ProviderId_6</td>\n",
       "      <td>ProductId_10</td>\n",
       "      <td>airtime</td>\n",
       "      <td>ChannelId_3</td>\n",
       "      <td>1000.0</td>\n",
       "      <td>1000</td>\n",
       "      <td>2018-11-15 02:18:49+00:00</td>\n",
       "      <td>2</td>\n",
       "      <td>0</td>\n",
       "      <td>5</td>\n",
       "      <td>66</td>\n",
       "      <td>2377.030303</td>\n",
       "      <td>3122.305223</td>\n",
       "    </tr>\n",
       "    <tr>\n",
       "      <th>1</th>\n",
       "      <td>TransactionId_73770</td>\n",
       "      <td>BatchId_15642</td>\n",
       "      <td>AccountId_4841</td>\n",
       "      <td>SubscriptionId_3829</td>\n",
       "      <td>CustomerId_4406</td>\n",
       "      <td>UGX</td>\n",
       "      <td>256</td>\n",
       "      <td>ProviderId_4</td>\n",
       "      <td>ProductId_6</td>\n",
       "      <td>financial_services</td>\n",
       "      <td>ChannelId_2</td>\n",
       "      <td>-20.0</td>\n",
       "      <td>20</td>\n",
       "      <td>2018-11-15 02:19:08+00:00</td>\n",
       "      <td>2</td>\n",
       "      <td>0</td>\n",
       "      <td>0</td>\n",
       "      <td>30893</td>\n",
       "      <td>-898.270725</td>\n",
       "      <td>1845.782877</td>\n",
       "    </tr>\n",
       "    <tr>\n",
       "      <th>2</th>\n",
       "      <td>TransactionId_26203</td>\n",
       "      <td>BatchId_53941</td>\n",
       "      <td>AccountId_4229</td>\n",
       "      <td>SubscriptionId_222</td>\n",
       "      <td>CustomerId_4683</td>\n",
       "      <td>UGX</td>\n",
       "      <td>256</td>\n",
       "      <td>ProviderId_6</td>\n",
       "      <td>ProductId_1</td>\n",
       "      <td>airtime</td>\n",
       "      <td>ChannelId_3</td>\n",
       "      <td>500.0</td>\n",
       "      <td>500</td>\n",
       "      <td>2018-11-15 02:44:21+00:00</td>\n",
       "      <td>2</td>\n",
       "      <td>0</td>\n",
       "      <td>81</td>\n",
       "      <td>2</td>\n",
       "      <td>500.000000</td>\n",
       "      <td>0.000000</td>\n",
       "    </tr>\n",
       "    <tr>\n",
       "      <th>3</th>\n",
       "      <td>TransactionId_380</td>\n",
       "      <td>BatchId_102363</td>\n",
       "      <td>AccountId_648</td>\n",
       "      <td>SubscriptionId_2185</td>\n",
       "      <td>CustomerId_988</td>\n",
       "      <td>UGX</td>\n",
       "      <td>256</td>\n",
       "      <td>ProviderId_1</td>\n",
       "      <td>ProductId_21</td>\n",
       "      <td>utility_bill</td>\n",
       "      <td>ChannelId_3</td>\n",
       "      <td>20000.0</td>\n",
       "      <td>21800</td>\n",
       "      <td>2018-11-15 03:32:55+00:00</td>\n",
       "      <td>2</td>\n",
       "      <td>0</td>\n",
       "      <td>5</td>\n",
       "      <td>26</td>\n",
       "      <td>9653.846154</td>\n",
       "      <td>19324.540611</td>\n",
       "    </tr>\n",
       "    <tr>\n",
       "      <th>5</th>\n",
       "      <td>TransactionId_23223</td>\n",
       "      <td>BatchId_25954</td>\n",
       "      <td>AccountId_1078</td>\n",
       "      <td>SubscriptionId_4238</td>\n",
       "      <td>CustomerId_1432</td>\n",
       "      <td>UGX</td>\n",
       "      <td>256</td>\n",
       "      <td>ProviderId_6</td>\n",
       "      <td>ProductId_3</td>\n",
       "      <td>airtime</td>\n",
       "      <td>ChannelId_3</td>\n",
       "      <td>2000.0</td>\n",
       "      <td>2000</td>\n",
       "      <td>2018-11-15 03:35:10+00:00</td>\n",
       "      <td>2</td>\n",
       "      <td>0</td>\n",
       "      <td>90</td>\n",
       "      <td>1</td>\n",
       "      <td>2000.000000</td>\n",
       "      <td>0.000000</td>\n",
       "    </tr>\n",
       "  </tbody>\n",
       "</table>\n",
       "</div>"
      ],
      "text/plain": [
       "         TransactionId         BatchId       AccountId       SubscriptionId  \\\n",
       "0  TransactionId_76871   BatchId_36123  AccountId_3957   SubscriptionId_887   \n",
       "1  TransactionId_73770   BatchId_15642  AccountId_4841  SubscriptionId_3829   \n",
       "2  TransactionId_26203   BatchId_53941  AccountId_4229   SubscriptionId_222   \n",
       "3    TransactionId_380  BatchId_102363   AccountId_648  SubscriptionId_2185   \n",
       "5  TransactionId_23223   BatchId_25954  AccountId_1078  SubscriptionId_4238   \n",
       "\n",
       "        CustomerId CurrencyCode  CountryCode    ProviderId     ProductId  \\\n",
       "0  CustomerId_4406          UGX          256  ProviderId_6  ProductId_10   \n",
       "1  CustomerId_4406          UGX          256  ProviderId_4   ProductId_6   \n",
       "2  CustomerId_4683          UGX          256  ProviderId_6   ProductId_1   \n",
       "3   CustomerId_988          UGX          256  ProviderId_1  ProductId_21   \n",
       "5  CustomerId_1432          UGX          256  ProviderId_6   ProductId_3   \n",
       "\n",
       "      ProductCategory    ChannelId   Amount  Value      TransactionStartTime  \\\n",
       "0             airtime  ChannelId_3   1000.0   1000 2018-11-15 02:18:49+00:00   \n",
       "1  financial_services  ChannelId_2    -20.0     20 2018-11-15 02:19:08+00:00   \n",
       "2             airtime  ChannelId_3    500.0    500 2018-11-15 02:44:21+00:00   \n",
       "3        utility_bill  ChannelId_3  20000.0  21800 2018-11-15 03:32:55+00:00   \n",
       "5             airtime  ChannelId_3   2000.0   2000 2018-11-15 03:35:10+00:00   \n",
       "\n",
       "   PricingStrategy  FraudResult  Recency  Frequency     Monetary        StdDev  \n",
       "0                2            0        5         66  2377.030303   3122.305223  \n",
       "1                2            0        0      30893  -898.270725   1845.782877  \n",
       "2                2            0       81          2   500.000000      0.000000  \n",
       "3                2            0        5         26  9653.846154  19324.540611  \n",
       "5                2            0       90          1  2000.000000      0.000000  "
      ]
     },
     "execution_count": 3,
     "metadata": {},
     "output_type": "execute_result"
    }
   ],
   "source": [
    "df = create_rfms_features(cleaned_df)\n",
    "df.head()"
   ]
  },
  {
   "cell_type": "code",
   "execution_count": 4,
   "id": "65cf37b8-d455-4999-b720-7bd14983d4d3",
   "metadata": {},
   "outputs": [
    {
     "data": {
      "text/html": [
       "<div>\n",
       "<style scoped>\n",
       "    .dataframe tbody tr th:only-of-type {\n",
       "        vertical-align: middle;\n",
       "    }\n",
       "\n",
       "    .dataframe tbody tr th {\n",
       "        vertical-align: top;\n",
       "    }\n",
       "\n",
       "    .dataframe thead th {\n",
       "        text-align: right;\n",
       "    }\n",
       "</style>\n",
       "<table border=\"1\" class=\"dataframe\">\n",
       "  <thead>\n",
       "    <tr style=\"text-align: right;\">\n",
       "      <th></th>\n",
       "      <th>Recency</th>\n",
       "      <th>Frequency</th>\n",
       "      <th>Monetary</th>\n",
       "      <th>StdDev</th>\n",
       "    </tr>\n",
       "  </thead>\n",
       "  <tbody>\n",
       "    <tr>\n",
       "      <th>0</th>\n",
       "      <td>5</td>\n",
       "      <td>66</td>\n",
       "      <td>2377.030303</td>\n",
       "      <td>3122.305223</td>\n",
       "    </tr>\n",
       "    <tr>\n",
       "      <th>1</th>\n",
       "      <td>0</td>\n",
       "      <td>30893</td>\n",
       "      <td>-898.270725</td>\n",
       "      <td>1845.782877</td>\n",
       "    </tr>\n",
       "    <tr>\n",
       "      <th>2</th>\n",
       "      <td>81</td>\n",
       "      <td>2</td>\n",
       "      <td>500.000000</td>\n",
       "      <td>0.000000</td>\n",
       "    </tr>\n",
       "    <tr>\n",
       "      <th>3</th>\n",
       "      <td>5</td>\n",
       "      <td>26</td>\n",
       "      <td>9653.846154</td>\n",
       "      <td>19324.540611</td>\n",
       "    </tr>\n",
       "    <tr>\n",
       "      <th>5</th>\n",
       "      <td>90</td>\n",
       "      <td>1</td>\n",
       "      <td>2000.000000</td>\n",
       "      <td>0.000000</td>\n",
       "    </tr>\n",
       "  </tbody>\n",
       "</table>\n",
       "</div>"
      ],
      "text/plain": [
       "   Recency  Frequency     Monetary        StdDev\n",
       "0        5         66  2377.030303   3122.305223\n",
       "1        0      30893  -898.270725   1845.782877\n",
       "2       81          2   500.000000      0.000000\n",
       "3        5         26  9653.846154  19324.540611\n",
       "5       90          1  2000.000000      0.000000"
      ]
     },
     "execution_count": 4,
     "metadata": {},
     "output_type": "execute_result"
    }
   ],
   "source": [
    "rfms = ['Recency',\t'Frequency',\t'Monetary',\t'StdDev']\n",
    "rfms_df = df[rfms]\n",
    "rfms_df.head()"
   ]
  },
  {
   "cell_type": "code",
   "execution_count": 6,
   "id": "1ad52bd3-e5e9-4a54-a854-bc27f7a56700",
   "metadata": {},
   "outputs": [
    {
     "data": {
      "text/html": [
       "<div>\n",
       "<style scoped>\n",
       "    .dataframe tbody tr th:only-of-type {\n",
       "        vertical-align: middle;\n",
       "    }\n",
       "\n",
       "    .dataframe tbody tr th {\n",
       "        vertical-align: top;\n",
       "    }\n",
       "\n",
       "    .dataframe thead th {\n",
       "        text-align: right;\n",
       "    }\n",
       "</style>\n",
       "<table border=\"1\" class=\"dataframe\">\n",
       "  <thead>\n",
       "    <tr style=\"text-align: right;\">\n",
       "      <th></th>\n",
       "      <th>Recency</th>\n",
       "      <th>Frequency</th>\n",
       "      <th>Monetary</th>\n",
       "      <th>StdDev</th>\n",
       "    </tr>\n",
       "  </thead>\n",
       "  <tbody>\n",
       "    <tr>\n",
       "      <th>count</th>\n",
       "      <td>3615.000000</td>\n",
       "      <td>3615.000000</td>\n",
       "      <td>3615.000000</td>\n",
       "      <td>3615.000000</td>\n",
       "    </tr>\n",
       "    <tr>\n",
       "      <th>mean</th>\n",
       "      <td>30.136653</td>\n",
       "      <td>26.388105</td>\n",
       "      <td>9412.822418</td>\n",
       "      <td>4910.394012</td>\n",
       "    </tr>\n",
       "    <tr>\n",
       "      <th>std</th>\n",
       "      <td>26.942500</td>\n",
       "      <td>521.484360</td>\n",
       "      <td>20051.955695</td>\n",
       "      <td>12182.423691</td>\n",
       "    </tr>\n",
       "    <tr>\n",
       "      <th>min</th>\n",
       "      <td>0.000000</td>\n",
       "      <td>1.000000</td>\n",
       "      <td>-157142.857143</td>\n",
       "      <td>0.000000</td>\n",
       "    </tr>\n",
       "    <tr>\n",
       "      <th>25%</th>\n",
       "      <td>5.000000</td>\n",
       "      <td>2.000000</td>\n",
       "      <td>1614.358974</td>\n",
       "      <td>0.000000</td>\n",
       "    </tr>\n",
       "    <tr>\n",
       "      <th>50%</th>\n",
       "      <td>23.000000</td>\n",
       "      <td>4.000000</td>\n",
       "      <td>5000.000000</td>\n",
       "      <td>1804.670590</td>\n",
       "    </tr>\n",
       "    <tr>\n",
       "      <th>75%</th>\n",
       "      <td>53.000000</td>\n",
       "      <td>14.000000</td>\n",
       "      <td>9279.220779</td>\n",
       "      <td>3959.076535</td>\n",
       "    </tr>\n",
       "    <tr>\n",
       "      <th>max</th>\n",
       "      <td>90.000000</td>\n",
       "      <td>30893.000000</td>\n",
       "      <td>300000.000000</td>\n",
       "      <td>142200.000000</td>\n",
       "    </tr>\n",
       "  </tbody>\n",
       "</table>\n",
       "</div>"
      ],
      "text/plain": [
       "           Recency     Frequency       Monetary         StdDev\n",
       "count  3615.000000   3615.000000    3615.000000    3615.000000\n",
       "mean     30.136653     26.388105    9412.822418    4910.394012\n",
       "std      26.942500    521.484360   20051.955695   12182.423691\n",
       "min       0.000000      1.000000 -157142.857143       0.000000\n",
       "25%       5.000000      2.000000    1614.358974       0.000000\n",
       "50%      23.000000      4.000000    5000.000000    1804.670590\n",
       "75%      53.000000     14.000000    9279.220779    3959.076535\n",
       "max      90.000000  30893.000000  300000.000000  142200.000000"
      ]
     },
     "execution_count": 6,
     "metadata": {},
     "output_type": "execute_result"
    }
   ],
   "source": [
    "rfms_df.describe()"
   ]
  },
  {
   "cell_type": "code",
   "execution_count": 7,
   "id": "b8000ba3-4adc-4643-be5f-9720f55ab6d8",
   "metadata": {},
   "outputs": [
    {
     "data": {
      "text/plain": [
       "array([[<Axes: title={'center': 'Recency'}>,\n",
       "        <Axes: title={'center': 'Frequency'}>],\n",
       "       [<Axes: title={'center': 'Monetary'}>,\n",
       "        <Axes: title={'center': 'StdDev'}>]], dtype=object)"
      ]
     },
     "execution_count": 7,
     "metadata": {},
     "output_type": "execute_result"
    },
    {
     "data": {
      "image/png": "[encoded data removed]",
      "text/plain": [
       "<Figure size 640x480 with 4 Axes>"
      ]
     },
     "metadata": {},
     "output_type": "display_data"
    }
   ],
   "source": [
    "rfms_df.hist()"
   ]
  },
  {
   "cell_type": "markdown",
   "id": "5c4a413e-ce89-492c-9036-0431d868d74c",
   "metadata": {},
   "source": [
    "## Outliers detection in RFMS features"
   ]
  },
  {
   "cell_type": "code",
   "execution_count": 5,
   "id": "ea4a967d-cb4a-4724-b29c-d224b2fdafd0",
   "metadata": {},
   "outputs": [
    {
     "data": {
      "image/png": "[encoded data removed]",
      "text/plain": [
       "<Figure size 1200x600 with 1 Axes>"
      ]
     },
     "metadata": {},
     "output_type": "display_data"
    }
   ],
   "source": [
    "outlier_indices = detect_rfms_outliers(rfms_df)"
   ]
  },
  {
   "cell_type": "markdown",
   "id": "d52193b8-a587-435f-904a-6e8ef8ba939f",
   "metadata": {},
   "source": [
    "## MinMaxScaler Transformation of RFMS Feature"
   ]
  },
  {
   "cell_type": "code",
   "execution_count": 5,
   "id": "02cfa97d-7024-4089-8b35-800fdc970c98",
   "metadata": {},
   "outputs": [
    {
     "data": {
      "text/html": [
       "<div>\n",
       "<style scoped>\n",
       "    .dataframe tbody tr th:only-of-type {\n",
       "        vertical-align: middle;\n",
       "    }\n",
       "\n",
       "    .dataframe tbody tr th {\n",
       "        vertical-align: top;\n",
       "    }\n",
       "\n",
       "    .dataframe thead th {\n",
       "        text-align: right;\n",
       "    }\n",
       "</style>\n",
       "<table border=\"1\" class=\"dataframe\">\n",
       "  <thead>\n",
       "    <tr style=\"text-align: right;\">\n",
       "      <th></th>\n",
       "      <th>Recency</th>\n",
       "      <th>Frequency</th>\n",
       "      <th>Monetary</th>\n",
       "      <th>StdDev</th>\n",
       "    </tr>\n",
       "  </thead>\n",
       "  <tbody>\n",
       "    <tr>\n",
       "      <th>count</th>\n",
       "      <td>3615.000000</td>\n",
       "      <td>3615.000000</td>\n",
       "      <td>3615.000000</td>\n",
       "      <td>3615.000000</td>\n",
       "    </tr>\n",
       "    <tr>\n",
       "      <th>mean</th>\n",
       "      <td>0.334852</td>\n",
       "      <td>0.000822</td>\n",
       "      <td>0.364341</td>\n",
       "      <td>0.034532</td>\n",
       "    </tr>\n",
       "    <tr>\n",
       "      <th>std</th>\n",
       "      <td>0.299361</td>\n",
       "      <td>0.016881</td>\n",
       "      <td>0.043864</td>\n",
       "      <td>0.085671</td>\n",
       "    </tr>\n",
       "    <tr>\n",
       "      <th>min</th>\n",
       "      <td>0.000000</td>\n",
       "      <td>0.000000</td>\n",
       "      <td>0.000000</td>\n",
       "      <td>0.000000</td>\n",
       "    </tr>\n",
       "    <tr>\n",
       "      <th>25%</th>\n",
       "      <td>0.055556</td>\n",
       "      <td>0.000032</td>\n",
       "      <td>0.347281</td>\n",
       "      <td>0.000000</td>\n",
       "    </tr>\n",
       "    <tr>\n",
       "      <th>50%</th>\n",
       "      <td>0.255556</td>\n",
       "      <td>0.000097</td>\n",
       "      <td>0.354687</td>\n",
       "      <td>0.012691</td>\n",
       "    </tr>\n",
       "    <tr>\n",
       "      <th>75%</th>\n",
       "      <td>0.588889</td>\n",
       "      <td>0.000421</td>\n",
       "      <td>0.364048</td>\n",
       "      <td>0.027842</td>\n",
       "    </tr>\n",
       "    <tr>\n",
       "      <th>max</th>\n",
       "      <td>1.000000</td>\n",
       "      <td>1.000000</td>\n",
       "      <td>1.000000</td>\n",
       "      <td>1.000000</td>\n",
       "    </tr>\n",
       "  </tbody>\n",
       "</table>\n",
       "</div>"
      ],
      "text/plain": [
       "           Recency    Frequency     Monetary       StdDev\n",
       "count  3615.000000  3615.000000  3615.000000  3615.000000\n",
       "mean      0.334852     0.000822     0.364341     0.034532\n",
       "std       0.299361     0.016881     0.043864     0.085671\n",
       "min       0.000000     0.000000     0.000000     0.000000\n",
       "25%       0.055556     0.000032     0.347281     0.000000\n",
       "50%       0.255556     0.000097     0.354687     0.012691\n",
       "75%       0.588889     0.000421     0.364048     0.027842\n",
       "max       1.000000     1.000000     1.000000     1.000000"
      ]
     },
     "execution_count": 5,
     "metadata": {},
     "output_type": "execute_result"
    }
   ],
   "source": [
    "scaled_df = scale_features(rfms_df)\n",
    "scaled_df.describe()"
   ]
  },
  {
   "cell_type": "code",
   "execution_count": 10,
   "id": "e737f770-3a2b-4076-9269-64ccef77beab",
   "metadata": {},
   "outputs": [
    {
     "data": {
      "text/html": [
       "<div>\n",
       "<style scoped>\n",
       "    .dataframe tbody tr th:only-of-type {\n",
       "        vertical-align: middle;\n",
       "    }\n",
       "\n",
       "    .dataframe tbody tr th {\n",
       "        vertical-align: top;\n",
       "    }\n",
       "\n",
       "    .dataframe thead th {\n",
       "        text-align: right;\n",
       "    }\n",
       "</style>\n",
       "<table border=\"1\" class=\"dataframe\">\n",
       "  <thead>\n",
       "    <tr style=\"text-align: right;\">\n",
       "      <th></th>\n",
       "      <th>Recency</th>\n",
       "      <th>Frequency</th>\n",
       "      <th>Monetary</th>\n",
       "      <th>StdDev</th>\n",
       "    </tr>\n",
       "  </thead>\n",
       "  <tbody>\n",
       "    <tr>\n",
       "      <th>0</th>\n",
       "      <td>0.055556</td>\n",
       "      <td>0.002104</td>\n",
       "      <td>0.348950</td>\n",
       "      <td>0.021957</td>\n",
       "    </tr>\n",
       "    <tr>\n",
       "      <th>1</th>\n",
       "      <td>0.000000</td>\n",
       "      <td>1.000000</td>\n",
       "      <td>0.341785</td>\n",
       "      <td>0.012980</td>\n",
       "    </tr>\n",
       "    <tr>\n",
       "      <th>2</th>\n",
       "      <td>0.900000</td>\n",
       "      <td>0.000032</td>\n",
       "      <td>0.344844</td>\n",
       "      <td>0.000000</td>\n",
       "    </tr>\n",
       "    <tr>\n",
       "      <th>3</th>\n",
       "      <td>0.055556</td>\n",
       "      <td>0.000809</td>\n",
       "      <td>0.364868</td>\n",
       "      <td>0.135897</td>\n",
       "    </tr>\n",
       "    <tr>\n",
       "      <th>4</th>\n",
       "      <td>1.000000</td>\n",
       "      <td>0.000000</td>\n",
       "      <td>0.348125</td>\n",
       "      <td>0.000000</td>\n",
       "    </tr>\n",
       "  </tbody>\n",
       "</table>\n",
       "</div>"
      ],
      "text/plain": [
       "    Recency  Frequency  Monetary    StdDev\n",
       "0  0.055556   0.002104  0.348950  0.021957\n",
       "1  0.000000   1.000000  0.341785  0.012980\n",
       "2  0.900000   0.000032  0.344844  0.000000\n",
       "3  0.055556   0.000809  0.364868  0.135897\n",
       "4  1.000000   0.000000  0.348125  0.000000"
      ]
     },
     "execution_count": 10,
     "metadata": {},
     "output_type": "execute_result"
    }
   ],
   "source": [
    "scaled_df.head()"
   ]
  },
  {
   "cell_type": "code",
   "execution_count": 6,
   "id": "ee0d2ca6-b74b-4d1b-9b01-2b6adce60c97",
   "metadata": {},
   "outputs": [
    {
     "data": {
      "text/plain": [
       "array([[<Axes: title={'center': 'Recency'}>,\n",
       "        <Axes: title={'center': 'Frequency'}>],\n",
       "       [<Axes: title={'center': 'Monetary'}>,\n",
       "        <Axes: title={'center': 'StdDev'}>]], dtype=object)"
      ]
     },
     "execution_count": 6,
     "metadata": {},
     "output_type": "execute_result"
    },
    {
     "data": {
      "image/png": "[encoded data removed]",
      "text/plain": [
       "<Figure size 640x480 with 4 Axes>"
      ]
     },
     "metadata": {},
     "output_type": "display_data"
    }
   ],
   "source": [
    "scaled_df.hist()"
   ]
  },
  {
   "cell_type": "code",
   "execution_count": 7,
   "id": "01c3a902-5b33-4a6d-b17a-22389bf17750",
   "metadata": {},
   "outputs": [
    {
     "data": {
      "image/png": "[encoded data removed]",
      "text/plain": [
       "<Figure size 1200x600 with 1 Axes>"
      ]
     },
     "metadata": {},
     "output_type": "display_data"
    }
   ],
   "source": [
    "outlier_indices = detect_rfms_outliers(scaled_df)"
   ]
  },
  {
   "cell_type": "markdown",
   "id": "bedc6cc9-fbb6-49e2-8466-883bcbf960e3",
   "metadata": {},
   "source": [
    "## Visualizing in RFMS Space"
   ]
  },
  {
   "cell_type": "markdown",
   "id": "b2777cfe-478a-46c4-844b-b4122421f539",
   "metadata": {},
   "source": [
    "### Comparative Scoring"
   ]
  },
  {
   "cell_type": "code",
   "execution_count": 6,
   "id": "1da5ca2a-04f5-4fe9-83ad-26895b3d41b7",
   "metadata": {},
   "outputs": [
    {
     "data": {
      "text/html": [
       "<div>\n",
       "<style scoped>\n",
       "    .dataframe tbody tr th:only-of-type {\n",
       "        vertical-align: middle;\n",
       "    }\n",
       "\n",
       "    .dataframe tbody tr th {\n",
       "        vertical-align: top;\n",
       "    }\n",
       "\n",
       "    .dataframe thead th {\n",
       "        text-align: right;\n",
       "    }\n",
       "</style>\n",
       "<table border=\"1\" class=\"dataframe\">\n",
       "  <thead>\n",
       "    <tr style=\"text-align: right;\">\n",
       "      <th></th>\n",
       "      <th>Recency</th>\n",
       "      <th>Frequency</th>\n",
       "      <th>Monetary</th>\n",
       "      <th>StdDev</th>\n",
       "      <th>&lt;Recency_avg</th>\n",
       "      <th>&gt;Frequency_avg</th>\n",
       "      <th>&gt;Monetary_avg</th>\n",
       "      <th>&gt;StdDev_avg</th>\n",
       "    </tr>\n",
       "  </thead>\n",
       "  <tbody>\n",
       "    <tr>\n",
       "      <th>0</th>\n",
       "      <td>0.055556</td>\n",
       "      <td>0.002104</td>\n",
       "      <td>0.348950</td>\n",
       "      <td>0.021957</td>\n",
       "      <td>1</td>\n",
       "      <td>1</td>\n",
       "      <td>0</td>\n",
       "      <td>0</td>\n",
       "    </tr>\n",
       "    <tr>\n",
       "      <th>1</th>\n",
       "      <td>0.000000</td>\n",
       "      <td>1.000000</td>\n",
       "      <td>0.341785</td>\n",
       "      <td>0.012980</td>\n",
       "      <td>1</td>\n",
       "      <td>1</td>\n",
       "      <td>0</td>\n",
       "      <td>0</td>\n",
       "    </tr>\n",
       "    <tr>\n",
       "      <th>2</th>\n",
       "      <td>0.900000</td>\n",
       "      <td>0.000032</td>\n",
       "      <td>0.344844</td>\n",
       "      <td>0.000000</td>\n",
       "      <td>0</td>\n",
       "      <td>0</td>\n",
       "      <td>0</td>\n",
       "      <td>0</td>\n",
       "    </tr>\n",
       "    <tr>\n",
       "      <th>3</th>\n",
       "      <td>0.055556</td>\n",
       "      <td>0.000809</td>\n",
       "      <td>0.364868</td>\n",
       "      <td>0.135897</td>\n",
       "      <td>1</td>\n",
       "      <td>0</td>\n",
       "      <td>1</td>\n",
       "      <td>1</td>\n",
       "    </tr>\n",
       "    <tr>\n",
       "      <th>4</th>\n",
       "      <td>1.000000</td>\n",
       "      <td>0.000000</td>\n",
       "      <td>0.348125</td>\n",
       "      <td>0.000000</td>\n",
       "      <td>0</td>\n",
       "      <td>0</td>\n",
       "      <td>0</td>\n",
       "      <td>0</td>\n",
       "    </tr>\n",
       "  </tbody>\n",
       "</table>\n",
       "</div>"
      ],
      "text/plain": [
       "    Recency  Frequency  Monetary    StdDev  <Recency_avg  >Frequency_avg  \\\n",
       "0  0.055556   0.002104  0.348950  0.021957             1               1   \n",
       "1  0.000000   1.000000  0.341785  0.012980             1               1   \n",
       "2  0.900000   0.000032  0.344844  0.000000             0               0   \n",
       "3  0.055556   0.000809  0.364868  0.135897             1               0   \n",
       "4  1.000000   0.000000  0.348125  0.000000             0               0   \n",
       "\n",
       "   >Monetary_avg  >StdDev_avg  \n",
       "0              0            0  \n",
       "1              0            0  \n",
       "2              0            0  \n",
       "3              1            1  \n",
       "4              0            0  "
      ]
     },
     "execution_count": 6,
     "metadata": {},
     "output_type": "execute_result"
    }
   ],
   "source": [
    "bn_rfms_df =  assign_comparative_binary_score(scaled_df)\n",
    "bn_rfms_df.head()"
   ]
  },
  {
   "cell_type": "code",
   "execution_count": 10,
   "id": "dbc74b6e-1122-481c-b3b0-9f20e0b83ef1",
   "metadata": {},
   "outputs": [
    {
     "data": {
      "image/png": "[encoded data removed]",
      "text/plain": [
       "<Figure size 1000x800 with 1 Axes>"
      ]
     },
     "metadata": {},
     "output_type": "display_data"
    }
   ],
   "source": [
    "visualize_rfms(classified_df)"
   ]
  },
  {
   "cell_type": "markdown",
   "id": "d9848db1-a13b-4026-a8a8-4d0b8f87677d",
   "metadata": {},
   "source": [
    "### User classification"
   ]
  },
  {
   "cell_type": "code",
   "execution_count": 7,
   "id": "3453ce7b-88a3-4c8e-b010-ea4a49ec1af6",
   "metadata": {},
   "outputs": [
    {
     "data": {
      "text/html": [
       "<div>\n",
       "<style scoped>\n",
       "    .dataframe tbody tr th:only-of-type {\n",
       "        vertical-align: middle;\n",
       "    }\n",
       "\n",
       "    .dataframe tbody tr th {\n",
       "        vertical-align: top;\n",
       "    }\n",
       "\n",
       "    .dataframe thead th {\n",
       "        text-align: right;\n",
       "    }\n",
       "</style>\n",
       "<table border=\"1\" class=\"dataframe\">\n",
       "  <thead>\n",
       "    <tr style=\"text-align: right;\">\n",
       "      <th></th>\n",
       "      <th>Recency</th>\n",
       "      <th>Frequency</th>\n",
       "      <th>Monetary</th>\n",
       "      <th>StdDev</th>\n",
       "      <th>&lt;Recency_avg</th>\n",
       "      <th>&gt;Frequency_avg</th>\n",
       "      <th>&gt;Monetary_avg</th>\n",
       "      <th>&gt;StdDev_avg</th>\n",
       "      <th>Classification</th>\n",
       "      <th>Binary_Classification</th>\n",
       "    </tr>\n",
       "  </thead>\n",
       "  <tbody>\n",
       "    <tr>\n",
       "      <th>0</th>\n",
       "      <td>0.055556</td>\n",
       "      <td>0.002104</td>\n",
       "      <td>0.348950</td>\n",
       "      <td>0.021957</td>\n",
       "      <td>1</td>\n",
       "      <td>1</td>\n",
       "      <td>0</td>\n",
       "      <td>0</td>\n",
       "      <td>Low-risk</td>\n",
       "      <td>0</td>\n",
       "    </tr>\n",
       "    <tr>\n",
       "      <th>1</th>\n",
       "      <td>0.000000</td>\n",
       "      <td>1.000000</td>\n",
       "      <td>0.341785</td>\n",
       "      <td>0.012980</td>\n",
       "      <td>1</td>\n",
       "      <td>1</td>\n",
       "      <td>0</td>\n",
       "      <td>0</td>\n",
       "      <td>Low-risk</td>\n",
       "      <td>0</td>\n",
       "    </tr>\n",
       "    <tr>\n",
       "      <th>2</th>\n",
       "      <td>0.900000</td>\n",
       "      <td>0.000032</td>\n",
       "      <td>0.344844</td>\n",
       "      <td>0.000000</td>\n",
       "      <td>0</td>\n",
       "      <td>0</td>\n",
       "      <td>0</td>\n",
       "      <td>0</td>\n",
       "      <td>High-risk</td>\n",
       "      <td>1</td>\n",
       "    </tr>\n",
       "    <tr>\n",
       "      <th>3</th>\n",
       "      <td>0.055556</td>\n",
       "      <td>0.000809</td>\n",
       "      <td>0.364868</td>\n",
       "      <td>0.135897</td>\n",
       "      <td>1</td>\n",
       "      <td>0</td>\n",
       "      <td>1</td>\n",
       "      <td>1</td>\n",
       "      <td>Low-risk</td>\n",
       "      <td>0</td>\n",
       "    </tr>\n",
       "    <tr>\n",
       "      <th>4</th>\n",
       "      <td>1.000000</td>\n",
       "      <td>0.000000</td>\n",
       "      <td>0.348125</td>\n",
       "      <td>0.000000</td>\n",
       "      <td>0</td>\n",
       "      <td>0</td>\n",
       "      <td>0</td>\n",
       "      <td>0</td>\n",
       "      <td>High-risk</td>\n",
       "      <td>1</td>\n",
       "    </tr>\n",
       "  </tbody>\n",
       "</table>\n",
       "</div>"
      ],
      "text/plain": [
       "    Recency  Frequency  Monetary    StdDev  <Recency_avg  >Frequency_avg  \\\n",
       "0  0.055556   0.002104  0.348950  0.021957             1               1   \n",
       "1  0.000000   1.000000  0.341785  0.012980             1               1   \n",
       "2  0.900000   0.000032  0.344844  0.000000             0               0   \n",
       "3  0.055556   0.000809  0.364868  0.135897             1               0   \n",
       "4  1.000000   0.000000  0.348125  0.000000             0               0   \n",
       "\n",
       "   >Monetary_avg  >StdDev_avg Classification  Binary_Classification  \n",
       "0              0            0       Low-risk                      0  \n",
       "1              0            0       Low-risk                      0  \n",
       "2              0            0      High-risk                      1  \n",
       "3              1            1       Low-risk                      0  \n",
       "4              0            0      High-risk                      1  "
      ]
     },
     "execution_count": 7,
     "metadata": {},
     "output_type": "execute_result"
    }
   ],
   "source": [
    "classified_df = apply_classification(bn_rfms_df)\n",
    "classified_df.head()"
   ]
  },
  {
   "cell_type": "code",
   "execution_count": 9,
   "id": "57fceed5-d2e8-4086-9060-7dc35d3f3abc",
   "metadata": {},
   "outputs": [
    {
     "name": "stdout",
     "output_type": "stream",
     "text": [
      "<class 'pandas.core.frame.DataFrame'>\n",
      "RangeIndex: 3615 entries, 0 to 3614\n",
      "Data columns (total 10 columns):\n",
      " #   Column                 Non-Null Count  Dtype  \n",
      "---  ------                 --------------  -----  \n",
      " 0   Recency                3615 non-null   float64\n",
      " 1   Frequency              3615 non-null   float64\n",
      " 2   Monetary               3615 non-null   float64\n",
      " 3   StdDev                 3615 non-null   float64\n",
      " 4   <Recency_avg           3615 non-null   int32  \n",
      " 5   >Frequency_avg         3615 non-null   int32  \n",
      " 6   >Monetary_avg          3615 non-null   int32  \n",
      " 7   >StdDev_avg            3615 non-null   int32  \n",
      " 8   Classification         3615 non-null   object \n",
      " 9   Binary_Classification  3615 non-null   int64  \n",
      "dtypes: float64(4), int32(4), int64(1), object(1)\n",
      "memory usage: 226.1+ KB\n"
     ]
    }
   ],
   "source": [
    "classified_df.info()"
   ]
  },
  {
   "cell_type": "markdown",
   "id": "f38c6285-ff35-42d6-bd93-562f46b17ff1",
   "metadata": {},
   "source": [
    "## Perform Weight of Evidence (WoE) binning "
   ]
  },
  {
   "cell_type": "code",
   "execution_count": 12,
   "id": "1a112de0-7319-4a40-b250-a98e7a2534c4",
   "metadata": {},
   "outputs": [
    {
     "name": "stderr",
     "output_type": "stream",
     "text": [
      "C:\\Users\\Administrator\\Downloads\\10-Academy\\week-6\\AiML-credit-risk---loan-optimization-ml\\notebooks\\../scripts\\feature_engineering.py:323: FutureWarning: The default of observed=False is deprecated and will be changed to True in a future version of pandas. Pass observed=False to retain current behavior or observed=True to adopt the future default and silence this warning.\n",
      "  grouped = df.groupby('bin')[target].agg(['count', 'sum'])\n",
      "C:\\Users\\Administrator\\Downloads\\10-Academy\\week-6\\AiML-credit-risk---loan-optimization-ml\\notebooks\\../scripts\\feature_engineering.py:323: FutureWarning: The default of observed=False is deprecated and will be changed to True in a future version of pandas. Pass observed=False to retain current behavior or observed=True to adopt the future default and silence this warning.\n",
      "  grouped = df.groupby('bin')[target].agg(['count', 'sum'])\n",
      "C:\\Users\\Administrator\\Downloads\\10-Academy\\week-6\\AiML-credit-risk---loan-optimization-ml\\notebooks\\../scripts\\feature_engineering.py:323: FutureWarning: The default of observed=False is deprecated and will be changed to True in a future version of pandas. Pass observed=False to retain current behavior or observed=True to adopt the future default and silence this warning.\n",
      "  grouped = df.groupby('bin')[target].agg(['count', 'sum'])\n",
      "C:\\Users\\Administrator\\Downloads\\10-Academy\\week-6\\AiML-credit-risk---loan-optimization-ml\\notebooks\\../scripts\\feature_engineering.py:323: FutureWarning: The default of observed=False is deprecated and will be changed to True in a future version of pandas. Pass observed=False to retain current behavior or observed=True to adopt the future default and silence this warning.\n",
      "  grouped = df.groupby('bin')[target].agg(['count', 'sum'])\n",
      "C:\\Users\\Administrator\\Downloads\\10-Academy\\week-6\\AiML-credit-risk---loan-optimization-ml\\notebooks\\../scripts\\feature_engineering.py:323: FutureWarning: The default of observed=False is deprecated and will be changed to True in a future version of pandas. Pass observed=False to retain current behavior or observed=True to adopt the future default and silence this warning.\n",
      "  grouped = df.groupby('bin')[target].agg(['count', 'sum'])\n",
      "C:\\Users\\Administrator\\Downloads\\10-Academy\\week-6\\AiML-credit-risk---loan-optimization-ml\\notebooks\\../scripts\\feature_engineering.py:323: FutureWarning: The default of observed=False is deprecated and will be changed to True in a future version of pandas. Pass observed=False to retain current behavior or observed=True to adopt the future default and silence this warning.\n",
      "  grouped = df.groupby('bin')[target].agg(['count', 'sum'])\n",
      "C:\\Users\\Administrator\\Downloads\\10-Academy\\week-6\\AiML-credit-risk---loan-optimization-ml\\notebooks\\../scripts\\feature_engineering.py:323: FutureWarning: The default of observed=False is deprecated and will be changed to True in a future version of pandas. Pass observed=False to retain current behavior or observed=True to adopt the future default and silence this warning.\n",
      "  grouped = df.groupby('bin')[target].agg(['count', 'sum'])\n",
      "C:\\Users\\Administrator\\Downloads\\10-Academy\\week-6\\AiML-credit-risk---loan-optimization-ml\\notebooks\\../scripts\\feature_engineering.py:323: FutureWarning: The default of observed=False is deprecated and will be changed to True in a future version of pandas. Pass observed=False to retain current behavior or observed=True to adopt the future default and silence this warning.\n",
      "  grouped = df.groupby('bin')[target].agg(['count', 'sum'])\n"
     ]
    }
   ],
   "source": [
    "# Example usage:\n",
    "features = ['Recency', 'Frequency', 'Monetary', 'StdDev', '<Recency_avg', '>Frequency_avg', '>Monetary_avg', '>StdDev_avg']\n",
    "df_woe, woe_dict, iv_dict = woe_binning(classified_df, features, 'Binary_Classification')"
   ]
  },
  {
   "cell_type": "code",
   "execution_count": 13,
   "id": "590feae7-69e5-47b4-bb18-cc697acf5877",
   "metadata": {},
   "outputs": [
    {
     "data": {
      "text/html": [
       "<div>\n",
       "<style scoped>\n",
       "    .dataframe tbody tr th:only-of-type {\n",
       "        vertical-align: middle;\n",
       "    }\n",
       "\n",
       "    .dataframe tbody tr th {\n",
       "        vertical-align: top;\n",
       "    }\n",
       "\n",
       "    .dataframe thead th {\n",
       "        text-align: right;\n",
       "    }\n",
       "</style>\n",
       "<table border=\"1\" class=\"dataframe\">\n",
       "  <thead>\n",
       "    <tr style=\"text-align: right;\">\n",
       "      <th></th>\n",
       "      <th>Recency</th>\n",
       "      <th>Frequency</th>\n",
       "      <th>Monetary</th>\n",
       "      <th>StdDev</th>\n",
       "      <th>&lt;Recency_avg</th>\n",
       "      <th>&gt;Frequency_avg</th>\n",
       "      <th>&gt;Monetary_avg</th>\n",
       "      <th>&gt;StdDev_avg</th>\n",
       "      <th>Classification</th>\n",
       "      <th>Binary_Classification</th>\n",
       "    </tr>\n",
       "  </thead>\n",
       "  <tbody>\n",
       "    <tr>\n",
       "      <th>0</th>\n",
       "      <td>-0.863913</td>\n",
       "      <td>-3.442285</td>\n",
       "      <td>-0.145123</td>\n",
       "      <td>-0.024367</td>\n",
       "      <td>9.059420e-14</td>\n",
       "      <td>9.059420e-14</td>\n",
       "      <td>9.059420e-14</td>\n",
       "      <td>9.059420e-14</td>\n",
       "      <td>Low-risk</td>\n",
       "      <td>0</td>\n",
       "    </tr>\n",
       "    <tr>\n",
       "      <th>1</th>\n",
       "      <td>-1.743472</td>\n",
       "      <td>-3.442285</td>\n",
       "      <td>2.724225</td>\n",
       "      <td>1.081997</td>\n",
       "      <td>9.059420e-14</td>\n",
       "      <td>9.059420e-14</td>\n",
       "      <td>9.059420e-14</td>\n",
       "      <td>9.059420e-14</td>\n",
       "      <td>Low-risk</td>\n",
       "      <td>0</td>\n",
       "    </tr>\n",
       "    <tr>\n",
       "      <th>2</th>\n",
       "      <td>20.961183</td>\n",
       "      <td>1.121144</td>\n",
       "      <td>2.724225</td>\n",
       "      <td>1.267608</td>\n",
       "      <td>9.059420e-14</td>\n",
       "      <td>9.059420e-14</td>\n",
       "      <td>9.059420e-14</td>\n",
       "      <td>9.059420e-14</td>\n",
       "      <td>High-risk</td>\n",
       "      <td>1</td>\n",
       "    </tr>\n",
       "    <tr>\n",
       "      <th>3</th>\n",
       "      <td>-0.863913</td>\n",
       "      <td>-1.228793</td>\n",
       "      <td>-0.492849</td>\n",
       "      <td>-1.626724</td>\n",
       "      <td>9.059420e-14</td>\n",
       "      <td>9.059420e-14</td>\n",
       "      <td>9.059420e-14</td>\n",
       "      <td>9.059420e-14</td>\n",
       "      <td>Low-risk</td>\n",
       "      <td>0</td>\n",
       "    </tr>\n",
       "    <tr>\n",
       "      <th>4</th>\n",
       "      <td>20.961183</td>\n",
       "      <td>1.121144</td>\n",
       "      <td>0.396039</td>\n",
       "      <td>1.267608</td>\n",
       "      <td>9.059420e-14</td>\n",
       "      <td>9.059420e-14</td>\n",
       "      <td>9.059420e-14</td>\n",
       "      <td>9.059420e-14</td>\n",
       "      <td>High-risk</td>\n",
       "      <td>1</td>\n",
       "    </tr>\n",
       "  </tbody>\n",
       "</table>\n",
       "</div>"
      ],
      "text/plain": [
       "     Recency  Frequency  Monetary    StdDev  <Recency_avg  >Frequency_avg  \\\n",
       "0  -0.863913  -3.442285 -0.145123 -0.024367  9.059420e-14    9.059420e-14   \n",
       "1  -1.743472  -3.442285  2.724225  1.081997  9.059420e-14    9.059420e-14   \n",
       "2  20.961183   1.121144  2.724225  1.267608  9.059420e-14    9.059420e-14   \n",
       "3  -0.863913  -1.228793 -0.492849 -1.626724  9.059420e-14    9.059420e-14   \n",
       "4  20.961183   1.121144  0.396039  1.267608  9.059420e-14    9.059420e-14   \n",
       "\n",
       "   >Monetary_avg   >StdDev_avg Classification  Binary_Classification  \n",
       "0   9.059420e-14  9.059420e-14       Low-risk                      0  \n",
       "1   9.059420e-14  9.059420e-14       Low-risk                      0  \n",
       "2   9.059420e-14  9.059420e-14      High-risk                      1  \n",
       "3   9.059420e-14  9.059420e-14       Low-risk                      0  \n",
       "4   9.059420e-14  9.059420e-14      High-risk                      1  "
      ]
     },
     "execution_count": 13,
     "metadata": {},
     "output_type": "execute_result"
    }
   ],
   "source": [
    "df_woe.head()"
   ]
  },
  {
   "cell_type": "code",
   "execution_count": null,
   "id": "01898ce5-09de-4081-9e41-7cb4fcf0a0d4",
   "metadata": {},
   "outputs": [],
   "source": []
  },
  {
   "cell_type": "markdown",
   "id": "419146c6-ed6c-40e2-878d-0df1bd4172f2",
   "metadata": {},
   "source": [
    "## Extract Time Features"
   ]
  },
  {
   "cell_type": "code",
   "execution_count": null,
   "id": "d6d24674-a759-45ef-8755-1aeee75aadcf",
   "metadata": {},
   "outputs": [],
   "source": [
    "processed_data = extract_time_features(processed_data)\n",
    "processed_data.head()\n",
    "processed_data.info()"
   ]
  },
  {
   "cell_type": "code",
   "execution_count": null,
   "id": "64c3f6cd-3714-42bf-87fb-6bad2d792f3e",
   "metadata": {},
   "outputs": [],
   "source": [
    "null_counts = processed_data.isnull().sum()\n",
    "print(\"Null values in each column:\")\n",
    "print(null_counts)"
   ]
  },
  {
   "cell_type": "markdown",
   "id": "627bd240-69df-4a43-9111-80b14b96b870",
   "metadata": {},
   "source": [
    "## Handle Missing Values"
   ]
  },
  {
   "cell_type": "code",
   "execution_count": null,
   "id": "e414119f-6e55-4647-a61d-45cf390367ab",
   "metadata": {},
   "outputs": [],
   "source": [
    "processed_data = handle_missing_values(processed_data)\n",
    "processed_data.info()"
   ]
  },
  {
   "cell_type": "code",
   "execution_count": null,
   "id": "57a5456e-cf67-42a0-a452-db5d05b8178c",
   "metadata": {},
   "outputs": [],
   "source": [
    "null_counts = processed_data.isnull().sum()\n",
    "print(\"Null values in each column:\")\n",
    "print(null_counts)"
   ]
  },
  {
   "cell_type": "code",
   "execution_count": null,
   "id": "6a87d4e5-9fe0-435c-bf73-846cebf246b6",
   "metadata": {},
   "outputs": [],
   "source": [
    "non_fraud_df = processed_data[processed_data['FraudResult'] == 1.0]\n",
    "print(f\"Number of fraudulent transactions: {len(non_fraud_df)}\")"
   ]
  },
  {
   "cell_type": "code",
   "execution_count": null,
   "id": "3c5c8926-c064-4bba-bb15-c8b61b5ca420",
   "metadata": {},
   "outputs": [],
   "source": [
    "print(processed_data['FraudResult'].value_counts())"
   ]
  },
  {
   "cell_type": "code",
   "execution_count": null,
   "id": "ece3d5b5-c0a1-4580-beb0-b23a91a608a4",
   "metadata": {},
   "outputs": [],
   "source": [
    "processed_data['FraudResult'].unique()"
   ]
  },
  {
   "cell_type": "markdown",
   "id": "9e1ef7cf-26c2-47ab-84a0-4c5437bf99e1",
   "metadata": {},
   "source": [
    "## Encode Categorical Variables"
   ]
  },
  {
   "cell_type": "code",
   "execution_count": null,
   "id": "0c87a8b0-7ec1-4020-ab7c-902c46c5f6fc",
   "metadata": {},
   "outputs": [],
   "source": [
    "processed_data = encode_categorical_variables(processed_data)\n",
    "processed_data.info()"
   ]
  },
  {
   "cell_type": "code",
   "execution_count": null,
   "id": "21df2971-4da6-4fc7-b181-7442982b3478",
   "metadata": {},
   "outputs": [],
   "source": [
    "print(processed_data['FraudResult'].value_counts())"
   ]
  },
  {
   "cell_type": "code",
   "execution_count": null,
   "id": "8695aa4f-8293-4ecd-8621-b09d41c61448",
   "metadata": {},
   "outputs": [],
   "source": [
    "processed_data['FraudResult'].unique()"
   ]
  },
  {
   "cell_type": "markdown",
   "id": "30dddb29-23ee-4f18-81b6-16f1655f4f28",
   "metadata": {},
   "source": [
    "## Normalize/Standardize Numerical Features"
   ]
  },
  {
   "cell_type": "code",
   "execution_count": null,
   "id": "0d0bf7b2-d31e-4463-bbbe-ede947069886",
   "metadata": {},
   "outputs": [],
   "source": [
    "processed_data = normalize_and_standardize_numerical_features(processed_data)"
   ]
  },
  {
   "cell_type": "code",
   "execution_count": null,
   "id": "71d6f2d8-e4d1-442d-a0bc-121ca21d24b3",
   "metadata": {},
   "outputs": [],
   "source": [
    "processed_data['FraudResult'].unique()"
   ]
  },
  {
   "cell_type": "code",
   "execution_count": null,
   "id": "0813e516-9b3d-4c36-a354-8d0ef63209da",
   "metadata": {},
   "outputs": [],
   "source": [
    "processed_data.head()"
   ]
  },
  {
   "cell_type": "code",
   "execution_count": null,
   "id": "4980ed5e-7c7c-4644-b11d-4d4496f643ad",
   "metadata": {},
   "outputs": [],
   "source": [
    "processed_data.info()"
   ]
  },
  {
   "cell_type": "code",
   "execution_count": null,
   "id": "fb86db23-1d8f-4cfd-b78e-d24ed6391b3d",
   "metadata": {},
   "outputs": [],
   "source": [
    "processed_data"
   ]
  },
  {
   "cell_type": "code",
   "execution_count": null,
   "id": "05b3f018-173a-4eb2-8817-0e5f17af5fd4",
   "metadata": {},
   "outputs": [],
   "source": [
    "null_counts = processed_data.isnull().sum()\n",
    "print(\"Null values in each column:\")\n",
    "print(null_counts)"
   ]
  },
  {
   "cell_type": "code",
   "execution_count": null,
   "id": "6a55d7a6-965b-412b-bd3d-2fe513660f33",
   "metadata": {},
   "outputs": [],
   "source": [
    "print(processed_data['FraudResult'].value_counts())"
   ]
  },
  {
   "cell_type": "code",
   "execution_count": null,
   "id": "9f9d959c-aa53-4caa-a8a5-d2bd39970b1e",
   "metadata": {},
   "outputs": [],
   "source": [
    "processed_data['FraudResult'].unique()"
   ]
  },
  {
   "cell_type": "markdown",
   "id": "9729af0d-743b-45c6-95c9-462267b9503a",
   "metadata": {},
   "source": [
    "## Save the the processed dataset"
   ]
  },
  {
   "cell_type": "code",
   "execution_count": null,
   "id": "84f44e47-fe8a-4a18-93a9-9c1ef3aea0fe",
   "metadata": {},
   "outputs": [],
   "source": [
    "# Define output folder and file name\n",
    "output_folder = os.path.join('..', 'data', 'featured')\n",
    "filename = 'featured_df.parquet'\n",
    "\n",
    "output_path = save_data(processed_data, output_folder, filename)"
   ]
  }
 ],
 "metadata": {
  "kernelspec": {
   "display_name": "Python 3 (ipykernel)",
   "language": "python",
   "name": "python3"
  },
  "language_info": {
   "codemirror_mode": {
    "name": "ipython",
    "version": 3
   },
   "file_extension": ".py",
   "mimetype": "text/x-python",
   "name": "python",
   "nbconvert_exporter": "python",
   "pygments_lexer": "ipython3",
   "version": "3.9.13"
  }
 },
 "nbformat": 4,
 "nbformat_minor": 5
}
